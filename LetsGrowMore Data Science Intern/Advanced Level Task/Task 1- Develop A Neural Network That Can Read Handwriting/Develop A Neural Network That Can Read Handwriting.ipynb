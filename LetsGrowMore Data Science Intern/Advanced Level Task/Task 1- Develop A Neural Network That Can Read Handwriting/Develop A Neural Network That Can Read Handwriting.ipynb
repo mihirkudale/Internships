{
 "cells": [
  {
   "cell_type": "markdown",
   "id": "c155aed1",
   "metadata": {},
   "source": [
    "# Data Science Intern @ LetsGrowMore\n",
    "# Author : Mihir Kudale\n",
    "# ADNACED LEVEL TASK 01\n",
    "## Develop A Neural Network That Can Read Handwriting:\n",
    "Begin your neural network machine learning project with the MNIST Handwritten Digit Classification Challenge and using Tensorflow and CNN. It has a very user-friendly interface that’s ideal for beginners."
   ]
  },
  {
   "cell_type": "markdown",
   "id": "d9444883",
   "metadata": {},
   "source": [
    "### Importing Libraries"
   ]
  },
  {
   "cell_type": "code",
   "execution_count": 4,
   "id": "1e837a49",
   "metadata": {},
   "outputs": [],
   "source": [
    "import tensorflow as tf\n",
    "from numpy import unique, argmax\n",
    "from matplotlib import pyplot\n",
    "import matplotlib.pyplot as plt\n",
    "import numpy as np"
   ]
  },
  {
   "cell_type": "markdown",
   "id": "ad3cdb5f",
   "metadata": {},
   "source": [
    "### Load Dataset"
   ]
  },
  {
   "cell_type": "code",
   "execution_count": 5,
   "id": "80c0a2eb",
   "metadata": {},
   "outputs": [],
   "source": [
    "mnist = tf.keras.datasets.mnist\n",
    "\n",
    "(x_train, y_train), (x_test, y_test) = mnist.load_data()"
   ]
  },
  {
   "cell_type": "markdown",
   "id": "592f465f",
   "metadata": {},
   "source": [
    "### Reshaping the trainning & testing dataset"
   ]
  },
  {
   "cell_type": "code",
   "execution_count": 6,
   "id": "1116faf0",
   "metadata": {},
   "outputs": [],
   "source": [
    "x_train =x_train.reshape((x_train.shape[0] ,x_train.shape[1], x_train.shape[2],1))\n",
    "x_test =x_test.reshape((x_test.shape[0] ,x_test.shape[1], x_test.shape[2],1))"
   ]
  },
  {
   "cell_type": "markdown",
   "id": "6f393498",
   "metadata": {},
   "source": [
    "### Normalize the value of pixels in images"
   ]
  },
  {
   "cell_type": "code",
   "execution_count": 7,
   "id": "5eb9a12f",
   "metadata": {},
   "outputs": [],
   "source": [
    "x_train=x_train.astype('float32')/255.0\n",
    "x_test=x_test.astype('float32')/255.0"
   ]
  },
  {
   "cell_type": "code",
   "execution_count": 8,
   "id": "35468958",
   "metadata": {},
   "outputs": [
    {
     "data": {
      "image/png": "[encoded data removed]",
      "text/plain": [
       "<Figure size 360x216 with 20 Axes>"
      ]
     },
     "metadata": {},
     "output_type": "display_data"
    }
   ],
   "source": [
    "fig=plt.figure(figsize=(5,3))\n",
    "for i in range(20):\n",
    "  ax =fig.add_subplot(2,10,i+1 ,xticks=[] ,yticks=[])\n",
    "  ax.imshow(np.squeeze(x_train[i]), cmap='gray')\n",
    "  ax.set_title(y_train[i])"
   ]
  },
  {
   "cell_type": "markdown",
   "id": "f9f7de8a",
   "metadata": {},
   "source": [
    "### Determine the shape of input image"
   ]
  },
  {
   "cell_type": "code",
   "execution_count": 9,
   "id": "fe095c5b",
   "metadata": {},
   "outputs": [
    {
     "data": {
      "text/plain": [
       "(28, 28, 1)"
      ]
     },
     "execution_count": 9,
     "metadata": {},
     "output_type": "execute_result"
    }
   ],
   "source": [
    "img_shape= x_train.shape[1:]\n",
    "img_shape"
   ]
  },
  {
   "cell_type": "markdown",
   "id": "91e7dd55",
   "metadata": {},
   "source": [
    "### Defining the model"
   ]
  },
  {
   "cell_type": "code",
   "execution_count": 10,
   "id": "18bd8d64",
   "metadata": {},
   "outputs": [],
   "source": [
    "import tensorflow as tf\n",
    "\n",
    "\n",
    "model = tf.keras.models.Sequential([\n",
    "\n",
    "  tf.keras.layers.Flatten(input_shape=(28, 28)),\n",
    "\n",
    "  tf.keras.layers.Dense(128, activation='relu'),\n",
    "\n",
    "  tf.keras.layers.Dropout(0.2),\n",
    "\n",
    "  tf.keras.layers.Dense(10)\n",
    "\n",
    "])"
   ]
  },
  {
   "cell_type": "code",
   "execution_count": 11,
   "id": "2ed40fd1",
   "metadata": {},
   "outputs": [
    {
     "name": "stdout",
     "output_type": "stream",
     "text": [
      "Model: \"sequential_1\"\n",
      "_________________________________________________________________\n",
      "Layer (type)                 Output Shape              Param #   \n",
      "=================================================================\n",
      "flatten_1 (Flatten)          (None, 784)               0         \n",
      "_________________________________________________________________\n",
      "dense_2 (Dense)              (None, 128)               100480    \n",
      "_________________________________________________________________\n",
      "dropout_1 (Dropout)          (None, 128)               0         \n",
      "_________________________________________________________________\n",
      "dense_3 (Dense)              (None, 10)                1290      \n",
      "=================================================================\n",
      "Total params: 101,770\n",
      "Trainable params: 101,770\n",
      "Non-trainable params: 0\n",
      "_________________________________________________________________\n"
     ]
    }
   ],
   "source": [
    "model.summary()"
   ]
  },
  {
   "cell_type": "code",
   "execution_count": 12,
   "id": "ed898e6f",
   "metadata": {},
   "outputs": [
    {
     "data": {
      "image/jpeg": "[encoded data removed]",
      "text/plain": [
       "<IPython.core.display.Image object>"
      ]
     },
     "execution_count": 12,
     "metadata": {},
     "output_type": "execute_result"
    }
   ],
   "source": [
    "from tensorflow.keras.utils import plot_model\n",
    "\n",
    "plot_model(model, 'model.jpg', show_shapes=True)"
   ]
  },
  {
   "cell_type": "code",
   "execution_count": 13,
   "id": "dcdc4e01",
   "metadata": {},
   "outputs": [
    {
     "data": {
      "text/plain": [
       "array([[ 0.27371222,  0.47162277,  0.3747598 , -0.46385735, -0.43492848,\n",
       "        -0.5821014 , -1.3636845 ,  0.23854798, -0.55198205,  0.27028313]],\n",
       "      dtype=float32)"
      ]
     },
     "execution_count": 13,
     "metadata": {},
     "output_type": "execute_result"
    }
   ],
   "source": [
    "predictions = model(x_train[:1]).numpy()\n",
    "\n",
    "predictions"
   ]
  },
  {
   "cell_type": "code",
   "execution_count": 14,
   "id": "ad1ef79c",
   "metadata": {},
   "outputs": [
    {
     "data": {
      "text/plain": [
       "array([[0.13670266, 0.16662048, 0.15123814, 0.06538144, 0.06730048,\n",
       "        0.05809006, 0.02658671, 0.13197914, 0.05986631, 0.13623469]],\n",
       "      dtype=float32)"
      ]
     },
     "execution_count": 14,
     "metadata": {},
     "output_type": "execute_result"
    }
   ],
   "source": [
    "tf.nn.softmax(predictions).numpy()"
   ]
  },
  {
   "cell_type": "markdown",
   "id": "471ab4d4",
   "metadata": {},
   "source": [
    "### Compling The Model"
   ]
  },
  {
   "cell_type": "code",
   "execution_count": 15,
   "id": "c49dfd95",
   "metadata": {},
   "outputs": [],
   "source": [
    "loss_fn = tf.keras.losses.SparseCategoricalCrossentropy(from_logits=True)\n",
    "loss_fn(y_train[:1], predictions).numpy()\n",
    "model.compile(optimizer='adam',loss=loss_fn, metrics=['accuracy'])"
   ]
  },
  {
   "cell_type": "markdown",
   "id": "991a2833",
   "metadata": {},
   "source": [
    "### Train the model"
   ]
  },
  {
   "cell_type": "code",
   "execution_count": 16,
   "id": "3a1ab6b5",
   "metadata": {},
   "outputs": [
    {
     "name": "stdout",
     "output_type": "stream",
     "text": [
      "Epoch 1/5\n",
      "1875/1875 [==============================] - 5s 3ms/step - loss: 0.2940 - accuracy: 0.9142\n",
      "Epoch 2/5\n",
      "1875/1875 [==============================] - 5s 3ms/step - loss: 0.1417 - accuracy: 0.9577\n",
      "Epoch 3/5\n",
      "1875/1875 [==============================] - 4s 2ms/step - loss: 0.1079 - accuracy: 0.9668\n",
      "Epoch 4/5\n",
      "1875/1875 [==============================] - 4s 2ms/step - loss: 0.0883 - accuracy: 0.9730\n",
      "Epoch 5/5\n",
      "1875/1875 [==============================] - 4s 2ms/step - loss: 0.0756 - accuracy: 0.9758\n"
     ]
    },
    {
     "data": {
      "text/plain": [
       "<tensorflow.python.keras.callbacks.History at 0x2a794bb3888>"
      ]
     },
     "execution_count": 16,
     "metadata": {},
     "output_type": "execute_result"
    }
   ],
   "source": [
    "model.fit(x_train, y_train, epochs=5)"
   ]
  },
  {
   "cell_type": "markdown",
   "id": "7a38745b",
   "metadata": {},
   "source": [
    "### Model Evaluation"
   ]
  },
  {
   "cell_type": "code",
   "execution_count": 17,
   "id": "e583bd84",
   "metadata": {},
   "outputs": [
    {
     "data": {
      "text/plain": [
       "[0.06867513805627823, 0.9782999753952026]"
      ]
     },
     "execution_count": 17,
     "metadata": {},
     "output_type": "execute_result"
    }
   ],
   "source": [
    "model.evaluate(x_test,  y_test, verbose=5)"
   ]
  },
  {
   "cell_type": "markdown",
   "id": "0b28ad5e",
   "metadata": {},
   "source": [
    "### Probablity of the model"
   ]
  },
  {
   "cell_type": "code",
   "execution_count": 18,
   "id": "3fcd767f",
   "metadata": {},
   "outputs": [
    {
     "data": {
      "text/plain": [
       "<tf.Tensor: shape=(5, 10), dtype=float32, numpy=\n",
       "array([[6.57566304e-08, 6.35131059e-09, 6.90359548e-06, 8.98465660e-05,\n",
       "        1.74693593e-12, 3.25596687e-07, 1.96594856e-14, 9.99897480e-01,\n",
       "        1.93118026e-07, 5.08799940e-06],\n",
       "       [5.48260459e-07, 3.98553530e-05, 9.99949455e-01, 9.16534191e-06,\n",
       "        6.07382729e-14, 3.57658223e-07, 1.37547659e-07, 3.72162327e-12,\n",
       "        4.69959360e-07, 3.78994579e-13],\n",
       "       [4.60307405e-07, 9.99428213e-01, 5.03372357e-05, 3.97218946e-06,\n",
       "        4.16297917e-05, 1.09022430e-05, 4.15579962e-05, 3.17611499e-04,\n",
       "        1.04223618e-04, 9.52992650e-07],\n",
       "       [9.99670029e-01, 1.51429869e-09, 8.72375022e-05, 1.45458657e-07,\n",
       "        5.23487643e-07, 3.87076057e-07, 3.22720916e-05, 2.28423251e-05,\n",
       "        1.60378818e-07, 1.86504316e-04],\n",
       "       [5.65784940e-05, 4.20634505e-09, 3.45380104e-05, 7.70730182e-08,\n",
       "        9.91323948e-01, 4.90407785e-07, 7.33671695e-05, 1.01801175e-04,\n",
       "        6.74518105e-06, 8.40242766e-03]], dtype=float32)>"
      ]
     },
     "execution_count": 18,
     "metadata": {},
     "output_type": "execute_result"
    }
   ],
   "source": [
    "probability_model = tf.keras.Sequential([ model, tf.keras.layers.Softmax() ])\n",
    "probability_model(x_test[:5])"
   ]
  },
  {
   "cell_type": "markdown",
   "id": "099c57dc",
   "metadata": {},
   "source": [
    "### Testing the model"
   ]
  },
  {
   "cell_type": "code",
   "execution_count": 19,
   "id": "5086ccb0",
   "metadata": {},
   "outputs": [
    {
     "data": {
      "image/png": "[encoded data removed]",
      "text/plain": [
       "<Figure size 432x288 with 1 Axes>"
      ]
     },
     "metadata": {
      "needs_background": "light"
     },
     "output_type": "display_data"
    }
   ],
   "source": [
    "img = x_train[3]\n",
    "plt.imshow(np.squeeze(img) ,cmap='gray')\n",
    "plt.show()"
   ]
  },
  {
   "cell_type": "code",
   "execution_count": 20,
   "id": "8b1f432e",
   "metadata": {},
   "outputs": [
    {
     "name": "stdout",
     "output_type": "stream",
     "text": [
      "predicted : 1\n"
     ]
    }
   ],
   "source": [
    "img= img.reshape(1, img.shape[0],img.shape[1],img.shape[2])\n",
    "p= model.predict([img])\n",
    "print(\"predicted : {}\".format(argmax(p)))"
   ]
  }
 ],
 "metadata": {
  "kernelspec": {
   "display_name": "Python 3 (ipykernel)",
   "language": "python",
   "name": "python3"
  },
  "language_info": {
   "codemirror_mode": {
    "name": "ipython",
    "version": 3
   },
   "file_extension": ".py",
   "mimetype": "text/x-python",
   "name": "python",
   "nbconvert_exporter": "python",
   "pygments_lexer": "ipython3",
   "version": "3.7.11"
  }
 },
 "nbformat": 4,
 "nbformat_minor": 5
}
